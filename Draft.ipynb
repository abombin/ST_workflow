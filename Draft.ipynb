{
 "cells": [
  {
   "cell_type": "code",
   "execution_count": null,
   "metadata": {},
   "outputs": [],
   "source": [
    "import scanpy as sc\n",
    "import pandas as pd\n",
    "import os \n",
    "import numpy as np\n",
    "from scipy.sparse import issparse, csr_matrix\n",
    "\n",
    "os.chdir(\"/Users/bombina2/github/Reg_Ax/ST_workflow\")\n",
    "\n",
    "adata = sc.read_h5ad(\"/Users/bombina2/github/Reg_Ax/CCBR/output/vizium_test.h5ad\")\n",
    "\n",
    "def add_qc_metrics(adata, organism=\"hs\", mt_match_pattern=None, layer=None,\n",
    "                   log1p=False):\n",
    "    # identify mitochondrial genes pattern\n",
    "    if mt_match_pattern is None:\n",
    "        if organism == \"hs\":\n",
    "            mt_match_pattern = \"MT-\"\n",
    "        elif organism == \"mm\":\n",
    "            mt_match_pattern = \"mt-\"\n",
    "        else:\n",
    "            raise ValueError(\"Unknown organism\")\n",
    "    adata.var[\"mt\"] = adata.var_names.str.startswith(mt_match_pattern)\n",
    "    # calculate QC metrics\n",
    "    sc.pp.calculate_qc_metrics(adata, qc_vars=[\"mt\"], inplace=True, \n",
    "        log1p=False, percent_top=None, layer=layer\n",
    "    )\n",
    "\n",
    "def add_qc_metrics_2(adata, organism=\"hs\", mt_match_pattern=None, layer=None):\n",
    "    # identify mitochondrial genes pattern\n",
    "    if mt_match_pattern is None:\n",
    "        if organism == \"hs\":\n",
    "            mt_match_pattern = \"MT-\"\n",
    "        elif organism == \"mm\":\n",
    "            mt_match_pattern = \"mt-\"\n",
    "        else:\n",
    "            raise ValueError(\"Unknown organism\")\n",
    "    adata.var[\"mt\"] = adata.var_names.str.startswith(mt_match_pattern)\n",
    "    test_matrix = adata.X\n",
    "    # Check if adata.X is sparse, and convert if necessary\n",
    "    if not issparse(test_matrix):\n",
    "        test_matrix = csr_matrix(test_matrix)\n",
    "\n",
    "    # Calculate total number of genes with values > 0 for each cell\n",
    "    adata.obs[\"nFeatue\"] = np.array((test_matrix > 0).sum(axis=1)).flatten()\n",
    "    # Calculate the sum of counts for all genes for each cell\n",
    "    adata.obs[\"nCount\"] = np.array(test_matrix.sum(axis=1)).flatten()\n",
    "\n",
    "add_qc_metrics(adata, organism=\"hs\")\n",
    "add_qc_metrics_2(adata, organism=\"hs\")"
   ]
  },
  {
   "cell_type": "code",
   "execution_count": null,
   "metadata": {},
   "outputs": [],
   "source": [
    "def add_qc_metrics_2(adata, organism=\"hs\", mt_match_pattern=None, layer=None):\n",
    "    # identify mitochondrial genes pattern\n",
    "    if mt_match_pattern is None:\n",
    "        if organism == \"hs\":\n",
    "            mt_match_pattern = \"MT-\"\n",
    "        elif organism == \"mm\":\n",
    "            mt_match_pattern = \"mt-\"\n",
    "        else:\n",
    "            raise ValueError(\"Unknown organism\")\n",
    "\n",
    "    test_matrix = adata.X\n",
    "    # Check if adata.X is sparse, and convert if necessary\n",
    "    if not issparse(test_matrix):\n",
    "        test_matrix = csr_matrix(test_matrix)\n",
    "\n",
    "    # Calculate total number of genes with values > 0 for each cell\n",
    "    adata.obs[\"nFeatue\"] = np.array((test_matrix > 0).sum(axis=1)).flatten()\n",
    "    # Calculate the sum of counts for all genes for each cell\n",
    "    adata.obs[\"nCount\"] = np.array(test_matrix.sum(axis=1)).flatten()\n",
    "    mt_genes = adata.var_names.str.startswith(mt_match_pattern)\n",
    "    # Calculate the sum of counts for mitochondrial genes for each cell\n",
    "    adata.obs[\"nCount_mt\"] = np.array(test_matrix[:, mt_genes].sum(axis=1)).flatten()\n",
    "    # Calculate the percentage of counts in mitochondrial genes for each cell\n",
    "    adata.obs[\"percent.mt\"] = (adata.obs[\"nCount_mt\"] / adata.obs[\"nCount\"]) * 100\n",
    "    # Calculate the percentage of counts in mitochondrial genes for each cell\n",
    "    adata.obs[\"percent.mt\"] = adata.obs[\"percent.mt\"].fillna(0)\n",
    "    # Calculate the percentage of counts in mitochondrial genes for each cell\n",
    "    adata.obs[\"percent.mt\"] = adata.obs[\"percent.mt\"].astype(float)\n"
   ]
  },
  {
   "cell_type": "code",
   "execution_count": null,
   "metadata": {},
   "outputs": [],
   "source": [
    "meta = adata.obs.copy()"
   ]
  },
  {
   "cell_type": "code",
   "execution_count": null,
   "metadata": {},
   "outputs": [],
   "source": [
    "atlas_adata = sc.read_h5ad(\"/Users/bombina2/github/Reg_Ax/CCBR/output/example/lung_atlas.h5ad\")"
   ]
  },
  {
   "cell_type": "code",
   "execution_count": null,
   "metadata": {},
   "outputs": [],
   "source": [
    "atlas_adata"
   ]
  },
  {
   "cell_type": "code",
   "execution_count": null,
   "metadata": {},
   "outputs": [],
   "source": [
    "add_qc_metrics(atlas_adata, organism=\"hs\")\n"
   ]
  },
  {
   "cell_type": "code",
   "execution_count": null,
   "metadata": {},
   "outputs": [],
   "source": [
    "add_qc_metrics_2(atlas_adata, organism=\"hs\")"
   ]
  },
  {
   "cell_type": "code",
   "execution_count": null,
   "metadata": {},
   "outputs": [],
   "source": [
    "atlas_meta = atlas_adata.obs.copy()"
   ]
  },
  {
   "cell_type": "code",
   "execution_count": null,
   "metadata": {},
   "outputs": [],
   "source": [
    "mt_genes = atlas_adata.var_names.str.startswith(\"MT-\")\n",
    "mt_genes"
   ]
  }
 ],
 "metadata": {
  "kernelspec": {
   "display_name": "st_work",
   "language": "python",
   "name": "python3"
  },
  "language_info": {
   "codemirror_mode": {
    "name": "ipython",
    "version": 3
   },
   "file_extension": ".py",
   "mimetype": "text/x-python",
   "name": "python",
   "nbconvert_exporter": "python",
   "pygments_lexer": "ipython3",
   "version": "3.11.13"
  }
 },
 "nbformat": 4,
 "nbformat_minor": 2
}
